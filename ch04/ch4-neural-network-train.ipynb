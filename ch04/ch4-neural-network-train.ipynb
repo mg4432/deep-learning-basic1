{
 "cells": [
  {
   "cell_type": "markdown",
   "metadata": {},
   "source": [
    "# 손실 함수\n",
    "- 신경망 학습에서 최적의 매개변수 값을 탐색하는 데 사용하는 지표는 **손실 함수(loss function)** 이다. 일반적으로 \n",
    "    - 오차제곱합(Sum of Squared Error, SSE)\n",
    "    - 교차 엔트로피 오차(Cross Entropy Error, CEE)\n",
    "    를 사용한다.\n",
    "    "
   ]
  },
  {
   "cell_type": "markdown",
   "metadata": {},
   "source": [
    "## 오차제곱합"
   ]
  },
  {
   "cell_type": "markdown",
   "metadata": {},
   "source": [
    "<center>\n",
    "    $E = \\frac{1}{2}\\Sigma_{k}^{}(y_k-t_k)^{2}$\n",
    "</center>\n",
    "\n",
    "$y_k$ : 신경망의 출력(신경망이 추정한 값)\\\n",
    "$t_k$ : 정답 레이블"
   ]
  },
  {
   "cell_type": "code",
   "execution_count": 10,
   "metadata": {
    "ExecuteTime": {
     "end_time": "2022-06-03T05:25:01.680950Z",
     "start_time": "2022-06-03T05:25:00.354496Z"
    }
   },
   "outputs": [],
   "source": [
    "import numpy as np"
   ]
  },
  {
   "cell_type": "code",
   "execution_count": 11,
   "metadata": {
    "ExecuteTime": {
     "end_time": "2022-06-03T05:25:01.695911Z",
     "start_time": "2022-06-03T05:25:01.684003Z"
    }
   },
   "outputs": [],
   "source": [
    "# EX. 0 ~ 9까지의 예측 확률과 레이블"
   ]
  },
  {
   "cell_type": "code",
   "execution_count": 12,
   "metadata": {
    "ExecuteTime": {
     "end_time": "2022-06-03T05:25:01.711868Z",
     "start_time": "2022-06-03T05:25:01.698903Z"
    }
   },
   "outputs": [],
   "source": [
    "def sum_squares_error(y, t) :\n",
    "    return 0.5*np.sum((y-t)**2)"
   ]
  },
  {
   "cell_type": "code",
   "execution_count": 13,
   "metadata": {
    "ExecuteTime": {
     "end_time": "2022-06-03T05:25:01.742965Z",
     "start_time": "2022-06-03T05:25:01.715393Z"
    }
   },
   "outputs": [
    {
     "data": {
      "text/plain": [
       "0.09750000000000003"
      ]
     },
     "execution_count": 13,
     "metadata": {},
     "output_type": "execute_result"
    }
   ],
   "source": [
    "# ex 1. 2일 확률이 0.6으로 가장 높다고 예측\n",
    "\n",
    "y = np.array([0.1, 0.05, 0.6, 0.0, 0.05, 0.1, 0.0, 0.1, 0.0, 0.0])\n",
    "t = np.array([0, 0, 1, 0, 0, 0, 0, 0, 0, 0])\n",
    "\n",
    "sum_squares_error(y, t)"
   ]
  },
  {
   "cell_type": "code",
   "execution_count": 14,
   "metadata": {
    "ExecuteTime": {
     "end_time": "2022-06-03T05:25:01.757746Z",
     "start_time": "2022-06-03T05:25:01.745777Z"
    }
   },
   "outputs": [
    {
     "data": {
      "text/plain": [
       "0.5975"
      ]
     },
     "execution_count": 14,
     "metadata": {},
     "output_type": "execute_result"
    }
   ],
   "source": [
    "# ex 2. 7일 확률이 0.6으로 가장 높다고 예측\n",
    "\n",
    "y = np.array([0.1, 0.05, 0.1, 0.0, 0.05, 0.1, 0.0, 0.6, 0.0, 0.0])\n",
    "t = np.array([0, 0, 1, 0, 0, 0, 0, 0, 0, 0])\n",
    "\n",
    "sum_squares_error(y, t)"
   ]
  },
  {
   "cell_type": "markdown",
   "metadata": {},
   "source": [
    "ex.1은 정답이 '2'이고 신경망의 출력도 '2'에서 가장 높은 경우이다\n",
    "> SSE가 0.0975로 낮은 값\n",
    "\n",
    "ex.2은 정답이 '2'이지만 신경망의 출력은 '7'에서 가장 높은 경우이다\n",
    "> SSE가 0.5975로 높은 값"
   ]
  },
  {
   "cell_type": "markdown",
   "metadata": {},
   "source": [
    "## 교차 엔트로피 오차"
   ]
  },
  {
   "cell_type": "markdown",
   "metadata": {},
   "source": [
    "<center>\n",
    "    $E = -\\Sigma_{k}t_k\\text{log}y_k$\n",
    "</center>\n",
    "\n",
    "$y_k$ : 신경망의 출력(신경망이 추정한 값)\\\n",
    "$t_k$ : 정답 레이블"
   ]
  },
  {
   "cell_type": "code",
   "execution_count": 15,
   "metadata": {
    "ExecuteTime": {
     "end_time": "2022-06-03T05:25:01.773703Z",
     "start_time": "2022-06-03T05:25:01.762731Z"
    }
   },
   "outputs": [],
   "source": [
    "def cross_entropy_error(y, t) :\n",
    "    delta = 1e-7\n",
    "    return -np.sum(t * np.log(y + delta))"
   ]
  },
  {
   "cell_type": "code",
   "execution_count": 16,
   "metadata": {
    "ExecuteTime": {
     "end_time": "2022-06-03T05:25:01.788663Z",
     "start_time": "2022-06-03T05:25:01.778692Z"
    }
   },
   "outputs": [
    {
     "data": {
      "text/plain": [
       "0.510825457099338"
      ]
     },
     "execution_count": 16,
     "metadata": {},
     "output_type": "execute_result"
    }
   ],
   "source": [
    "# ex 1. 2일 확률이 0.6으로 가장 높다고 예측\n",
    "\n",
    "y = np.array([0.1, 0.05, 0.6, 0.0, 0.05, 0.1, 0.0, 0.1, 0.0, 0.0])\n",
    "t = np.array([0, 0, 1, 0, 0, 0, 0, 0, 0, 0])\n",
    "\n",
    "cross_entropy_error(y, t)"
   ]
  },
  {
   "cell_type": "code",
   "execution_count": 17,
   "metadata": {
    "ExecuteTime": {
     "end_time": "2022-06-03T05:25:01.803623Z",
     "start_time": "2022-06-03T05:25:01.792652Z"
    }
   },
   "outputs": [
    {
     "data": {
      "text/plain": [
       "2.302584092994546"
      ]
     },
     "execution_count": 17,
     "metadata": {},
     "output_type": "execute_result"
    }
   ],
   "source": [
    "# ex 2. 7일 확률이 0.6으로 가장 높다고 예측\n",
    "\n",
    "y = np.array([0.1, 0.05, 0.1, 0.0, 0.05, 0.1, 0.0, 0.6, 0.0, 0.0])\n",
    "t = np.array([0, 0, 1, 0, 0, 0, 0, 0, 0, 0])\n",
    "\n",
    "cross_entropy_error(y, t)"
   ]
  },
  {
   "cell_type": "markdown",
   "metadata": {},
   "source": [
    "## 미니배치 학습"
   ]
  },
  {
   "cell_type": "markdown",
   "metadata": {},
   "source": [
    "기계학습 문제는 훈련 데이터에 대한 손실 함수의 값을 구하고, 그 값을 최대한 줄여주는 매개변수를 찾는 것이다. 즉, 모든 훈련 데이터를 대상으로 손실 함수 값을 구해야 한다.\n",
    "\n",
    "이때까지는 데이터 하나에 대한 손실 함수를 고려했지만 지금부터는 N개의 훈련 데이터에 대한 손실 함수를 탐색"
   ]
  },
  {
   "cell_type": "markdown",
   "metadata": {},
   "source": [
    "**CCE**\n",
    "<center>\n",
    "    $E = -\\frac{1}{N}\\Sigma_{n}\\Sigma_{k}t_{nk}\\text{log}y_{nk}$\n",
    "</center>\n",
    "\n",
    "N개의 데이터의 손실 함수의 산술평균"
   ]
  },
  {
   "cell_type": "markdown",
   "metadata": {},
   "source": [
    "현실적으로 데이터의 수가 많은 경우 모든 데이터를 대상으로 손실 함수의 값을 구하는 데는 많은 시간이 걸린다.\n",
    "> 데이터 일부를 추려 전체의 **근사치**로 이용\n",
    "\n",
    "신경망에서도 일부만 골라 학습을 수행하는데 이를 **미니배치**라고 한다.\n",
    "\n"
   ]
  },
  {
   "cell_type": "code",
   "execution_count": 18,
   "metadata": {
    "ExecuteTime": {
     "end_time": "2022-06-03T05:25:02.139724Z",
     "start_time": "2022-06-03T05:25:01.806616Z"
    }
   },
   "outputs": [
    {
     "name": "stdout",
     "output_type": "stream",
     "text": [
      "(60000, 784)\n",
      "(60000, 10)\n"
     ]
    }
   ],
   "source": [
    "import sys, os \n",
    "sys.path.append(os.pardir)\n",
    "import numpy as np \n",
    "from dataset.mnist import load_mnist \n",
    "\n",
    "(X_train, t_train), (X_test, t_test) = load_mnist(normalize = True, one_hot_label = True)\n",
    "\n",
    "print(X_train.shape)\n",
    "print(t_train.shape)"
   ]
  },
  {
   "cell_type": "markdown",
   "metadata": {},
   "source": [
    "**무작위로 10장 추출**"
   ]
  },
  {
   "cell_type": "code",
   "execution_count": 19,
   "metadata": {
    "ExecuteTime": {
     "end_time": "2022-06-03T05:25:02.154684Z",
     "start_time": "2022-06-03T05:25:02.142357Z"
    }
   },
   "outputs": [],
   "source": [
    "train_size = X_train.shape[0]\n",
    "batch_size = 10\n",
    "batch_mask = np.random.choice(train_size, batch_size)\n",
    "X_batch = X_train[batch_mask]\n",
    "t_batch = t_train[batch_mask]"
   ]
  },
  {
   "cell_type": "markdown",
   "metadata": {},
   "source": [
    "## 배치용 교차 엔트로피 오차 구현 "
   ]
  },
  {
   "cell_type": "code",
   "execution_count": 20,
   "metadata": {
    "ExecuteTime": {
     "end_time": "2022-06-03T05:25:02.169645Z",
     "start_time": "2022-06-03T05:25:02.156679Z"
    }
   },
   "outputs": [],
   "source": [
    "def cross_entropy_error(y, t) : \n",
    "    if y.ndim == 1 : \n",
    "        t = t.reshape(1, t.size)\n",
    "        y = y.reshape(1, y.size)\n",
    "        \n",
    "    batch_size = y.shape[0]\n",
    "    return -np.sum(t * np.log(y + 1e-7)) / batch_size"
   ]
  },
  {
   "cell_type": "markdown",
   "metadata": {},
   "source": [
    "정답 레이블이 원-핫 인코딩이 아니라 숫자 레이블로 주어진 경우 : "
   ]
  },
  {
   "cell_type": "code",
   "execution_count": 21,
   "metadata": {
    "ExecuteTime": {
     "end_time": "2022-06-03T05:25:02.184603Z",
     "start_time": "2022-06-03T05:25:02.172636Z"
    }
   },
   "outputs": [],
   "source": [
    "def cross_entropy_error(y, t) : \n",
    "    if y.ndim == 1 : \n",
    "        t = t.reshape(1, t.size)\n",
    "        y = y.reshape(1, y.size)\n",
    "        \n",
    "    batch_size = y.shape[0]\n",
    "    return -np.sum(np.log(y[np.arange(batch_size), t] + 1e-7)) / batch_size"
   ]
  },
  {
   "cell_type": "markdown",
   "metadata": {},
   "source": [
    "# 수치 미분 "
   ]
  },
  {
   "cell_type": "markdown",
   "metadata": {},
   "source": [
    "## 수치 미분 예"
   ]
  },
  {
   "cell_type": "code",
   "execution_count": 22,
   "metadata": {
    "ExecuteTime": {
     "end_time": "2022-06-03T05:25:02.199563Z",
     "start_time": "2022-06-03T05:25:02.187596Z"
    }
   },
   "outputs": [],
   "source": [
    "def numerical_diff(f, x) : \n",
    "    h = 1e-4\n",
    "    return (f(x + h) - f(x - h))/(2*h)"
   ]
  },
  {
   "cell_type": "code",
   "execution_count": 23,
   "metadata": {
    "ExecuteTime": {
     "end_time": "2022-06-03T05:25:02.215521Z",
     "start_time": "2022-06-03T05:25:02.202556Z"
    }
   },
   "outputs": [],
   "source": [
    "# ex. y = 0.01x^2 + 0.1x\n",
    "def function_1(x) :\n",
    "    return 0.01*x**2 + 0.1*x"
   ]
  },
  {
   "cell_type": "code",
   "execution_count": 24,
   "metadata": {
    "ExecuteTime": {
     "end_time": "2022-06-03T05:25:04.015972Z",
     "start_time": "2022-06-03T05:25:02.218513Z"
    }
   },
   "outputs": [],
   "source": [
    "import numpy as np \n",
    "import matplotlib.pylab as plt "
   ]
  },
  {
   "cell_type": "code",
   "execution_count": 25,
   "metadata": {
    "ExecuteTime": {
     "end_time": "2022-06-03T05:25:04.436336Z",
     "start_time": "2022-06-03T05:25:04.017967Z"
    }
   },
   "outputs": [
    {
     "data": {
      "image/png": "[encoded data removed]",
      "text/plain": [
       "<Figure size 432x288 with 1 Axes>"
      ]
     },
     "metadata": {
      "needs_background": "light"
     },
     "output_type": "display_data"
    }
   ],
   "source": [
    "x = np.arange(0, 20, 0.1)\n",
    "y = function_1(x)\n",
    "\n",
    "plt.xlabel('x')\n",
    "plt.ylabel('f(x)')\n",
    "plt.plot(x, y)\n",
    "plt.show()"
   ]
  },
  {
   "cell_type": "code",
   "execution_count": 26,
   "metadata": {
    "ExecuteTime": {
     "end_time": "2022-06-03T05:25:04.451389Z",
     "start_time": "2022-06-03T05:25:04.438362Z"
    }
   },
   "outputs": [
    {
     "name": "stdout",
     "output_type": "stream",
     "text": [
      "0.1999999999990898\n",
      "0.2999999999986347\n"
     ]
    }
   ],
   "source": [
    "print(numerical_diff(function_1, 5))\n",
    "print(numerical_diff(function_1, 10))"
   ]
  },
  {
   "cell_type": "code",
   "execution_count": 27,
   "metadata": {
    "ExecuteTime": {
     "end_time": "2022-06-03T05:25:04.615950Z",
     "start_time": "2022-06-03T05:25:04.453354Z"
    }
   },
   "outputs": [
    {
     "data": {
      "image/png": "[encoded data removed]",
      "text/plain": [
       "<Figure size 432x288 with 1 Axes>"
      ]
     },
     "metadata": {
      "needs_background": "light"
     },
     "output_type": "display_data"
    }
   ],
   "source": [
    "def tangent_line1(x) : \n",
    "    return numerical_diff(function_1, 5) * (x-5) + function_1(5)\n",
    "\n",
    "x = np.arange(0, 20, 0.1)\n",
    "y = function_1(x)\n",
    "\n",
    " \n",
    "x_ = np.arange(0, 20, 0.1)\n",
    "y_ = tangent_line1(x_)\n",
    "\n",
    "plt.xlabel('x')\n",
    "plt.ylabel('f(x)')\n",
    "plt.plot(x, y)\n",
    "plt.plot(x_, y_, color = 'red')\n",
    "plt.plot(5, function_1(5), markersize = 5, marker = '.', color = 'black')\n",
    "plt.plot([0,5], [function_1(5), function_1(5)], 'k--')\n",
    "plt.plot([5,5], [function_1(5), -0.5], 'k--')\n",
    "plt.show()"
   ]
  },
  {
   "cell_type": "code",
   "execution_count": 28,
   "metadata": {
    "ExecuteTime": {
     "end_time": "2022-06-03T05:25:04.780478Z",
     "start_time": "2022-06-03T05:25:04.616917Z"
    }
   },
   "outputs": [
    {
     "data": {
      "image/png": "[encoded data removed]",
      "text/plain": [
       "<Figure size 432x288 with 1 Axes>"
      ]
     },
     "metadata": {
      "needs_background": "light"
     },
     "output_type": "display_data"
    }
   ],
   "source": [
    "def tangent_line2(x) : \n",
    "    return numerical_diff(function_1, 10) * (x-10) + function_1(10)\n",
    "\n",
    "x = np.arange(0, 20, 0.1)\n",
    "y = function_1(x)\n",
    "\n",
    " \n",
    "x_ = np.arange(0, 20, 0.1)\n",
    "y_ = tangent_line2(x_)\n",
    "\n",
    "plt.xlabel('x')\n",
    "plt.ylabel('f(x)')\n",
    "plt.plot(x, y)\n",
    "plt.plot(x_, y_, color = 'red')\n",
    "plt.plot(10, function_1(10), markersize = 5, marker = '.', color = 'black')\n",
    "plt.plot([0,10], [function_1(10), function_1(10)], 'k--')\n",
    "plt.plot([10,10], [function_1(10), -1], 'k--')\n",
    "plt.show()"
   ]
  },
  {
   "cell_type": "markdown",
   "metadata": {},
   "source": [
    "## 편미분 "
   ]
  },
  {
   "cell_type": "markdown",
   "metadata": {},
   "source": [
    "$f(x_0, x_1)=x_0^2+x_1^2$"
   ]
  },
  {
   "cell_type": "code",
   "execution_count": 29,
   "metadata": {
    "ExecuteTime": {
     "end_time": "2022-06-03T05:25:04.795417Z",
     "start_time": "2022-06-03T05:25:04.781479Z"
    }
   },
   "outputs": [],
   "source": [
    "def function_2(x) : # 이 때는 x가 벡터\n",
    "    return x[0] ** 2 + x[1] ** 2 \n",
    "    # return np.sum(x ** 2)도 가능\n",
    "    "
   ]
  },
  {
   "cell_type": "markdown",
   "metadata": {},
   "source": [
    "$x_0$ = 3, $x_1$ = 4일 때 $x_0$에 대한 편미분 $\\frac{\\partial{f}}{\\partial{x_0}}$ 구하기"
   ]
  },
  {
   "cell_type": "code",
   "execution_count": 30,
   "metadata": {
    "ExecuteTime": {
     "end_time": "2022-06-03T05:25:04.811462Z",
     "start_time": "2022-06-03T05:25:04.797428Z"
    }
   },
   "outputs": [],
   "source": [
    "def function_tmp1(x0) : \n",
    "    return x0*x0 + 4.0**2.0"
   ]
  },
  {
   "cell_type": "code",
   "execution_count": 31,
   "metadata": {
    "ExecuteTime": {
     "end_time": "2022-06-03T05:25:04.826464Z",
     "start_time": "2022-06-03T05:25:04.813311Z"
    }
   },
   "outputs": [
    {
     "data": {
      "text/plain": [
       "6.00000000000378"
      ]
     },
     "execution_count": 31,
     "metadata": {},
     "output_type": "execute_result"
    }
   ],
   "source": [
    "numerical_diff(function_tmp1, 3.0)"
   ]
  },
  {
   "cell_type": "markdown",
   "metadata": {},
   "source": [
    "# 기울기\n",
    "- 앞에서는 개별 변수에 대한 편미분을 따로 계산했음\n",
    "- 모든 변수의 편미분을 벡터로 표현하면 해당 좌표에서의 **기울기**로 정의할 수 있음 \n"
   ]
  },
  {
   "cell_type": "markdown",
   "metadata": {},
   "source": [
    "ex. $x_0 = 3, x_1 = 4$일 때 $(\\frac{\\partial{f}}{\\partial{x_0}},\\frac{\\partial{f}}{\\partial{x_1}})$를 계산하면 해당 좌표에서 기울기가 된다."
   ]
  },
  {
   "cell_type": "markdown",
   "metadata": {},
   "source": [
    "기울기 구현 예시"
   ]
  },
  {
   "cell_type": "code",
   "execution_count": 32,
   "metadata": {
    "ExecuteTime": {
     "end_time": "2022-06-03T05:25:04.841113Z",
     "start_time": "2022-06-03T05:25:04.829062Z"
    }
   },
   "outputs": [],
   "source": [
    "def numerical_gradient(f, x) : # x는 벡터\n",
    "    h = 1e-4\n",
    "    grad = np.zeros_like(x) # 각각의 변수에 대해서 편미분하기 때문에 x와 shape가 같은 벡터 생성\n",
    "    \n",
    "    for idx in range(x.size) : # 모든 변수에 대해서\n",
    "        tmp_val = x[idx]\n",
    "        \n",
    "        # f(x+h)\n",
    "        x[idx] = tmp_val + h \n",
    "        fxh1 = f(x)\n",
    "        \n",
    "        # f(x-h)\n",
    "        x[idx] = tmp_val - h \n",
    "        fxh2 = f(x)\n",
    "        \n",
    "        grad[idx] = (fxh1 - fxh2) / (2*h)\n",
    "        x[idx] = tmp_val\n",
    "        \n",
    "    return grad"
   ]
  },
  {
   "cell_type": "code",
   "execution_count": 33,
   "metadata": {
    "ExecuteTime": {
     "end_time": "2022-06-03T05:25:04.856424Z",
     "start_time": "2022-06-03T05:25:04.843076Z"
    }
   },
   "outputs": [
    {
     "data": {
      "text/plain": [
       "array([6., 8.])"
      ]
     },
     "execution_count": 33,
     "metadata": {},
     "output_type": "execute_result"
    }
   ],
   "source": [
    "numerical_gradient(function_2, np.array([3.0, 4.0]))"
   ]
  },
  {
   "cell_type": "code",
   "execution_count": 34,
   "metadata": {
    "ExecuteTime": {
     "end_time": "2022-06-03T05:25:04.886914Z",
     "start_time": "2022-06-03T05:25:04.872927Z"
    }
   },
   "outputs": [
    {
     "data": {
      "text/plain": [
       "array([0., 4.])"
      ]
     },
     "execution_count": 34,
     "metadata": {},
     "output_type": "execute_result"
    }
   ],
   "source": [
    "numerical_gradient(function_2, np.array([0.0, 2.0]))"
   ]
  },
  {
   "cell_type": "code",
   "execution_count": 35,
   "metadata": {
    "ExecuteTime": {
     "end_time": "2022-06-03T05:25:04.902147Z",
     "start_time": "2022-06-03T05:25:04.889924Z"
    }
   },
   "outputs": [
    {
     "data": {
      "text/plain": [
       "array([6., 0.])"
      ]
     },
     "execution_count": 35,
     "metadata": {},
     "output_type": "execute_result"
    }
   ],
   "source": [
    "numerical_gradient(function_2, np.array([3.0, 0.0]))"
   ]
  },
  {
   "attachments": {
    "image.png": {
     "image/png": "[encoded data removed]"
    }
   },
   "cell_type": "markdown",
   "metadata": {
    "ExecuteTime": {
     "end_time": "2022-06-02T04:37:28.769987Z",
     "start_time": "2022-06-02T04:37:28.433004Z"
    }
   },
   "source": [
    "![image.png](attachment:image.png)"
   ]
  },
  {
   "cell_type": "markdown",
   "metadata": {
    "ExecuteTime": {
     "end_time": "2022-06-02T04:26:21.763152Z",
     "start_time": "2022-06-02T04:26:21.759646Z"
    }
   },
   "source": [
    "# 경사하강법(Gradient Descent)"
   ]
  },
  {
   "cell_type": "markdown",
   "metadata": {},
   "source": [
    "- 손실 함수를 최소화하기 위해 현 위치에서 기울어진 방향으로 일정 거리만큼 이동\n",
    "\n",
    "- 이동한 곳에서도 기울기를 구하고 기울어진 방향으로 이동하는 것을 반복"
   ]
  },
  {
   "cell_type": "markdown",
   "metadata": {},
   "source": [
    "<center>\n",
    "    $x_0 = x_0- \\eta \\dfrac{\\partial{f}}{\\partial{x_0}}$  \n",
    "</center>\n",
    "\n",
    "\n",
    "<center>\n",
    "    $x_1 = x_1- \\eta \\dfrac{\\partial{f}}{\\partial{x_1}}$\n",
    "</center>\n"
   ]
  },
  {
   "cell_type": "code",
   "execution_count": 36,
   "metadata": {
    "ExecuteTime": {
     "end_time": "2022-06-03T05:25:04.917580Z",
     "start_time": "2022-06-03T05:25:04.904064Z"
    }
   },
   "outputs": [],
   "source": [
    "def gradient_descent(f, init_x, lr = 0.01, step_num = 100) : \n",
    "    x = init_x\n",
    "    \n",
    "    for i in range(step_num) : \n",
    "        grad = numerical_gradient(f, x) \n",
    "        x -= lr * grad\n",
    "    \n",
    "    return x"
   ]
  },
  {
   "cell_type": "markdown",
   "metadata": {},
   "source": [
    "$f(x_0, x_1) = x_0^2 + x_1^2$**의 최솟값 구하기**"
   ]
  },
  {
   "cell_type": "code",
   "execution_count": 37,
   "metadata": {
    "ExecuteTime": {
     "end_time": "2022-06-03T05:25:04.933150Z",
     "start_time": "2022-06-03T05:25:04.919157Z"
    }
   },
   "outputs": [],
   "source": [
    "def function_2(x) : \n",
    "    return x[0]**2 + x[1]**2"
   ]
  },
  {
   "cell_type": "code",
   "execution_count": 38,
   "metadata": {
    "ExecuteTime": {
     "end_time": "2022-06-03T05:25:04.948215Z",
     "start_time": "2022-06-03T05:25:04.935080Z"
    },
    "scrolled": false
   },
   "outputs": [
    {
     "data": {
      "text/plain": [
       "array([6.11110793e-10, 8.14814391e-10])"
      ]
     },
     "execution_count": 38,
     "metadata": {},
     "output_type": "execute_result"
    }
   ],
   "source": [
    "init_x = np.array([3.0, 4.0])\n",
    "gradient_descent(function_2, init_x = init_x, lr = 0.1, step_num = 100)"
   ]
  },
  {
   "cell_type": "markdown",
   "metadata": {},
   "source": [
    "## 신경망에서의 기울기"
   ]
  },
  {
   "cell_type": "markdown",
   "metadata": {},
   "source": [
    "신경망에서도 기울기를 구해야 한다.\n",
    "> 여기서 기울기는 가중치 매개변수에 대한 손실 함수의 기울기를 의미\n",
    "\n",
    "$W$에 대해 경사는 $$\\frac{\\partial{L}}{\\partial{W}}$$로 나타낼 수 있다."
   ]
  },
  {
   "cell_type": "markdown",
   "metadata": {},
   "source": [
    "$$W = \\begin{pmatrix}\n",
    "w_{11} & w_{12} & w_{13}\\\\\n",
    "w_{21} & w_{22} & w_{23}\n",
    "\\end{pmatrix}$$"
   ]
  },
  {
   "cell_type": "markdown",
   "metadata": {
    "ExecuteTime": {
     "end_time": "2022-06-02T04:46:37.468293Z",
     "start_time": "2022-06-02T04:46:37.462338Z"
    }
   },
   "source": [
    "$$\\dfrac{\\partial{L}}{\\partial{W}} = \\begin{pmatrix}\n",
    "\\frac{\\partial{L}}{\\partial{w_{11}}} & \n",
    "\\frac{\\partial{L}}{\\partial{w_{12}}} & \n",
    "\\frac{\\partial{L}}{\\partial{w_{13}}} \\\\\n",
    "\\frac{\\partial{L}}{\\partial{w_{21}}} &\n",
    "\\frac{\\partial{L}}{\\partial{w_{22}}} &\n",
    "\\frac{\\partial{L}}{\\partial{w_{23}}}\n",
    "\\end{pmatrix}$$"
   ]
  },
  {
   "cell_type": "markdown",
   "metadata": {},
   "source": [
    "## 간단한 신경망에서 기울기를 구하는 코드 구현 "
   ]
  },
  {
   "cell_type": "markdown",
   "metadata": {},
   "source": [
    "### simplenet"
   ]
  },
  {
   "cell_type": "code",
   "execution_count": 39,
   "metadata": {
    "ExecuteTime": {
     "end_time": "2022-06-03T05:25:04.978578Z",
     "start_time": "2022-06-03T05:25:04.950040Z"
    }
   },
   "outputs": [],
   "source": [
    "import sys, os \n",
    "sys.path.append(os.pardir)\n",
    "\n",
    "import numpy as np \n",
    "from common.functions import softmax, cross_entropy_error\n",
    "from common.gradient import numerical_gradient\n",
    "\n",
    "class simpleNet : \n",
    "    def __init__(self) : \n",
    "        self.W = np.random.randn(2, 3)\n",
    "        \n",
    "    def predict(self, x) :\n",
    "        return np.dot(x, self.W) \n",
    "    \n",
    "    def loss(self, x, t) :\n",
    "        z = self.predict(x)\n",
    "        y = softmax(z)\n",
    "        loss = cross_entropy_error(y, t)\n",
    "        \n",
    "        return loss"
   ]
  },
  {
   "cell_type": "code",
   "execution_count": 40,
   "metadata": {
    "ExecuteTime": {
     "end_time": "2022-06-03T05:25:04.993337Z",
     "start_time": "2022-06-03T05:25:04.985691Z"
    }
   },
   "outputs": [],
   "source": [
    "net = simpleNet()"
   ]
  },
  {
   "cell_type": "code",
   "execution_count": 41,
   "metadata": {
    "ExecuteTime": {
     "end_time": "2022-06-03T05:25:05.008520Z",
     "start_time": "2022-06-03T05:25:04.996327Z"
    }
   },
   "outputs": [
    {
     "name": "stdout",
     "output_type": "stream",
     "text": [
      "[[-0.05771415  0.32228414  0.30700789]\n",
      " [-0.18665981  0.62866901  1.44093766]]\n"
     ]
    }
   ],
   "source": [
    "# 가중치 매개변수\n",
    "print(net.W)"
   ]
  },
  {
   "cell_type": "code",
   "execution_count": 42,
   "metadata": {
    "ExecuteTime": {
     "end_time": "2022-06-03T05:25:05.023478Z",
     "start_time": "2022-06-03T05:25:05.010440Z"
    }
   },
   "outputs": [
    {
     "name": "stdout",
     "output_type": "stream",
     "text": [
      "[-0.20262232  0.75917259  1.48104862]\n"
     ]
    }
   ],
   "source": [
    "# 입력값\n",
    "x = np.array([0.6, 0.9])\n",
    "\n",
    "# 출력값\n",
    "p = net.predict(x)\n",
    "print(p)"
   ]
  },
  {
   "cell_type": "code",
   "execution_count": 43,
   "metadata": {
    "ExecuteTime": {
     "end_time": "2022-06-03T05:25:05.038429Z",
     "start_time": "2022-06-03T05:25:05.025400Z"
    }
   },
   "outputs": [
    {
     "data": {
      "text/plain": [
       "2"
      ]
     },
     "execution_count": 43,
     "metadata": {},
     "output_type": "execute_result"
    }
   ],
   "source": [
    "# 최댓값의 인덱스\n",
    "np.argmax(p)"
   ]
  },
  {
   "cell_type": "code",
   "execution_count": 44,
   "metadata": {
    "ExecuteTime": {
     "end_time": "2022-06-03T05:25:05.053384Z",
     "start_time": "2022-06-03T05:25:05.040453Z"
    }
   },
   "outputs": [
    {
     "data": {
      "text/plain": [
       "0.5137398128989168"
      ]
     },
     "execution_count": 44,
     "metadata": {},
     "output_type": "execute_result"
    }
   ],
   "source": [
    "# 정답 레이블 \n",
    "t = np.array([0,0,1])\n",
    "net.loss(x, t)"
   ]
  },
  {
   "cell_type": "markdown",
   "metadata": {},
   "source": [
    "###  기울기 계산"
   ]
  },
  {
   "cell_type": "markdown",
   "metadata": {},
   "source": [
    "net.W를 인수로 받아서 손실 함수를 계산하는 새로운 함수 f를 정의하고 이 함수를 numerical_gradient(f, x)에 넘긴다."
   ]
  },
  {
   "cell_type": "code",
   "execution_count": 45,
   "metadata": {
    "ExecuteTime": {
     "end_time": "2022-06-03T05:25:05.068550Z",
     "start_time": "2022-06-03T05:25:05.055321Z"
    }
   },
   "outputs": [
    {
     "name": "stdout",
     "output_type": "stream",
     "text": [
      "[[ 0.06665423  0.17439337 -0.2410476 ]\n",
      " [ 0.09998135  0.26159005 -0.3615714 ]]\n"
     ]
    }
   ],
   "source": [
    "def f(W) : \n",
    "    return net.loss(x, t)\n",
    "\n",
    "dW = numerical_gradient(f, net.W)\n",
    "print(dW)"
   ]
  },
  {
   "cell_type": "markdown",
   "metadata": {},
   "source": [
    "dW는 numerical_gradient(f, net.W)의 결과로 각 가중치별 기울기를 계산\n",
    "> 예를 들어, $\\frac{\\partial{L}}{\\partial{w_{11}}}$은 대략 0.366인데, 이는 $w_{11}$을 $h$만큼 늘리면 손실 함수의 값은 0.366$h$만큼 증가한다는 의미이기 때문에 음의 방향으로 갱신해야 한다. 반대로  $w_{13}$을 $h$만큼 늘리면 손실 함수의 값은 0.522$h$만큼 감소한다는 의미이기 때문에 양의 방향으로 갱신해야 한다."
   ]
  },
  {
   "cell_type": "markdown",
   "metadata": {},
   "source": [
    "# 학습 알고리즘 구현 "
   ]
  },
  {
   "cell_type": "markdown",
   "metadata": {},
   "source": [
    "## 신경망 학습의 절차 "
   ]
  },
  {
   "cell_type": "markdown",
   "metadata": {},
   "source": [
    "0. 전제 \n",
    "> 신경망에는 적응 가능한 가중치와 편향이 있고, 이 값들을 훈련 데이터에 적응하도록 조정하는 과정을 **학습**이라고 한다. 신경망 학습은 아래의 4단계를 수행한다.\n",
    "\n",
    "1. 미니배치\n",
    "> 훈련 데이터 중 일부를 무작위로 가져온다. 이것을 미니배치라고 하며, 그 미니배치의 손실값을 줄이는 것이 목표이다.\n",
    "\n",
    "2. 기울기 산출\n",
    "> 미니배치의 손실함수 값을 줄이기 위해 각 가중치 매개변수의 기울기를 계산한다. 기울기는 손실 함수의 값을 작게하는 방향을 제시한다.\n",
    "\n",
    "3. 매개변수 갱신\n",
    "> 가중치 매개변수를 기울기 방향으로 아주 조금 갱신\n",
    "\n",
    "4. 반복\n",
    "> 1~3을 반복\n",
    "\n",
    "경사하강법으로 매개변수를 갱신하는데, 미니배치로 데이터를 무작위로 선정하기 때문에 **확률적 경사 하강법(Stochastic Gradient Descent, SGD)** 이라고 한다."
   ]
  },
  {
   "cell_type": "markdown",
   "metadata": {},
   "source": [
    "## 2층 신경망 클래스 구현 "
   ]
  },
  {
   "cell_type": "code",
   "execution_count": 46,
   "metadata": {
    "ExecuteTime": {
     "end_time": "2022-06-03T05:25:05.083561Z",
     "start_time": "2022-06-03T05:25:05.070471Z"
    }
   },
   "outputs": [],
   "source": [
    "import sys, os \n",
    "sys.path.append(os.pardir)\n",
    "from common.functions import * \n",
    "from common.gradient import numerical_gradient \n",
    "\n",
    "# 2층 신경망 클래스 \n",
    "class TwoLayerNet :\n",
    "    def __init__(self, input_size, hidden_size, output_size, weight_init_std = 0.01) : \n",
    "        self.params = {}\n",
    "        self.params['W1'] = weight_init_std * np.random.randn(input_size, hidden_size)\n",
    "        self.params['b1'] = np.zeros(hidden_size)\n",
    "        self.params['W2'] = weight_init_std * np.random.randn(hidden_size, output_size)\n",
    "        self.params['b2'] = np.zeros(output_size)\n",
    "        \n",
    "    def predict(self, x) : \n",
    "        W1, W2 = self.params['W1'], self.params['W2']\n",
    "        b1, b2 = self.params['b1'], self.params['b2']\n",
    "        \n",
    "        a1 = np.dot(x, W1) + b1 \n",
    "        z1 = sigmoid(a1)\n",
    "        a2 = np.dot(z1, W2) + b2 \n",
    "        y = softmax(a2)\n",
    "        \n",
    "        return y\n",
    "    \n",
    "    def loss(self, x, t) :\n",
    "        y = self.predict(x)\n",
    "        \n",
    "        return cross_entropy_error(y, t)\n",
    "    \n",
    "    def accuracy(self, x, t) : \n",
    "        y = self.predict(x)\n",
    "        y = np.argmax(y, axis = 1) \n",
    "        t = np.argmax(t, axis = 1)\n",
    "        \n",
    "        accuracy = np.sum(y == t) / float(len(x))\n",
    "        \n",
    "        return accuracy \n",
    "    \n",
    "    def numerical_gradient(self, x, t) : \n",
    "        loss_W = lambda W : self.loss(x, t) \n",
    "        \n",
    "        grads = {} \n",
    "        grads['W1'] = numerical_gradient(loss_W, self.params['W1'])\n",
    "        grads['b1'] = numerical_gradient(loss_W, self.params['b1'])\n",
    "        grads['W2'] = numerical_gradient(loss_W, self.params['W2'])\n",
    "        grads['b2'] = numerical_gradient(loss_W, self.params['b2'])\n",
    "\n",
    "        return grads "
   ]
  },
  {
   "cell_type": "code",
   "execution_count": 47,
   "metadata": {
    "ExecuteTime": {
     "end_time": "2022-06-03T05:25:05.099074Z",
     "start_time": "2022-06-03T05:25:05.085559Z"
    }
   },
   "outputs": [
    {
     "name": "stdout",
     "output_type": "stream",
     "text": [
      "(784, 100)\n",
      "(100,)\n",
      "(100, 10)\n",
      "(10,)\n"
     ]
    }
   ],
   "source": [
    "net = TwoLayerNet(input_size = 784, hidden_size = 100, output_size = 10)\n",
    "print((net.params['W1'].shape))\n",
    "print((net.params['b1'].shape))\n",
    "print((net.params['W2'].shape))\n",
    "print((net.params['b2'].shape))"
   ]
  },
  {
   "cell_type": "markdown",
   "metadata": {},
   "source": [
    "## 미니배치 학습 구현 "
   ]
  },
  {
   "cell_type": "code",
   "execution_count": 48,
   "metadata": {
    "ExecuteTime": {
     "end_time": "2022-06-03T05:25:05.143866Z",
     "start_time": "2022-06-03T05:25:05.101008Z"
    }
   },
   "outputs": [],
   "source": [
    "from tqdm import tqdm"
   ]
  },
  {
   "cell_type": "code",
   "execution_count": 50,
   "metadata": {
    "ExecuteTime": {
     "start_time": "2022-06-03T05:24:56.565Z"
    }
   },
   "outputs": [
    {
     "name": "stderr",
     "output_type": "stream",
     "text": [
      "100%|██████████| 1000/1000 [2:11:39<00:00,  7.90s/it] \n"
     ]
    }
   ],
   "source": [
    "import numpy as np \n",
    "from dataset.mnist import load_mnist \n",
    "from two_layer_net import TwoLayerNet\n",
    "from common.functions import * \n",
    "\n",
    "(X_train, t_train), (X_test, t_test) = load_mnist(normalize = True, one_hot_label = True)\n",
    "\n",
    "train_loss_list = []\n",
    "\n",
    "# 하이퍼 파라미터 \n",
    "iters_num = 1000\n",
    "train_size = X_train.shape[0]\n",
    "batch_size = 50\n",
    "learning_rate = 0.3\n",
    "network = TwoLayerNet(input_size = 784, \n",
    "                      hidden_size = 30,\n",
    "                      output_size = 10,)\n",
    "\n",
    "for i in tqdm(range(iters_num)) : \n",
    "    # 미니배치 생성\n",
    "    batch_mask = np.random.choice(train_size, batch_size)\n",
    "    X_batch = X_train[batch_mask]\n",
    "    t_batch = t_train[batch_mask]\n",
    "    \n",
    "    # 기울기 계산\n",
    "    grad = network.numerical_gradient(X_batch, t_batch)\n",
    "    \n",
    "    # 매개변수 갱신 \n",
    "    for key in ('W1', 'b1', 'W2', 'b2') : \n",
    "        network.params[key] -= learning_rate * grad[key]\n",
    "        \n",
    "    # 학습 경과 기록 \n",
    "    loss = network.loss(X_batch, t_batch)\n",
    "    train_loss_list.append(loss)"
   ]
  },
  {
   "cell_type": "code",
   "execution_count": 51,
   "metadata": {
    "ExecuteTime": {
     "start_time": "2022-06-03T05:24:56.568Z"
    }
   },
   "outputs": [
    {
     "data": {
      "text/plain": [
       "[<matplotlib.lines.Line2D at 0x7f8e7d79d2d0>]"
      ]
     },
     "execution_count": 51,
     "metadata": {},
     "output_type": "execute_result"
    },
    {
     "data": {
      "image/png": "[encoded data removed]",
      "text/plain": [
       "<Figure size 432x288 with 1 Axes>"
      ]
     },
     "metadata": {
      "needs_background": "light"
     },
     "output_type": "display_data"
    }
   ],
   "source": [
    "import matplotlib.pyplot as plt \n",
    "plt.plot(train_loss_list)"
   ]
  },
  {
   "cell_type": "markdown",
   "metadata": {},
   "source": [
    "## test data로 평가\n",
    "- 계산 시간 고려, 최대한 간단한 모형으로 표현 "
   ]
  },
  {
   "cell_type": "code",
   "execution_count": null,
   "metadata": {},
   "outputs": [
    {
     "name": "stderr",
     "output_type": "stream",
     "text": [
      "\r",
      "  0%|          | 0/300 [00:00<?, ?it/s]"
     ]
    }
   ],
   "source": [
    "import numpy as np \n",
    "from dataset.mnist import load_mnist \n",
    "from two_layer_net import TwoLayerNet\n",
    "\n",
    "(x_train, t_train), (x_test, t_test) = load_mnist(normalize = True, one_hot_label = True)\n",
    "\n",
    "network = TwoLayerNet(input_size = 784, hidden_size = 30, output_size = 10)\n",
    "\n",
    "# 하이퍼 파라미터 \n",
    "iters_num = 300\n",
    "train_size = x_train.shape[0]\n",
    "batch_size = 1000\n",
    "learning_rate = 0.3\n",
    "\n",
    "train_loss_list = []\n",
    "train_acc_list = [] \n",
    "test_acc_list = [] \n",
    "\n",
    "# 1에폭 당 반복 수 \n",
    "iter_per_epoch = max(train_size / batch_size, 1) \n",
    "\n",
    "for i in tqdm(range(iters_num)) : \n",
    "    # 미니배치\n",
    "    batch_mask = np.random.choice(train_size, batch_size)\n",
    "    x_batch = x_train[batch_mask]\n",
    "    t_batch = t_train[batch_mask]\n",
    "    \n",
    "    # 기울기 계산 \n",
    "    grad = network.numerical_gradient(x_batch, t_batch)\n",
    "    \n",
    "    # 매개변수 갱신\n",
    "    for key in ('W1', 'b1', 'W2', 'b2') : \n",
    "        network.params[key] -= learning_rate * grad[key]\n",
    "        \n",
    "    # 학습 경과 기록 \n",
    "    loss = network.loss(x_batch, t_batch)\n",
    "    train_loss_list.append(loss)\n",
    "    \n",
    "    # 1에폭 당 정확도 계산 \n",
    "    # 5에폭 수행(iter_per_epoch = 60000/1000 = 60, 300iter이기 때문에 5epoch)\n",
    "    if i % iter_per_epoch == 0 :\n",
    "        train_acc = network.accuracy(x_train, t_train)\n",
    "        test_acc = network.accuracY(x_test, t_test)\n",
    "        train_acc_list.append(train_acc)\n",
    "        test_acc_list.append(test_acc)\n",
    "        \n",
    "        print('train acc, test acc |' + str(train_acc) + ', ' + str(test_acc))\n",
    "        "
   ]
  },
  {
   "cell_type": "code",
   "execution_count": null,
   "metadata": {},
   "outputs": [],
   "source": []
  }
 ],
 "metadata": {
  "kernelspec": {
   "display_name": "Python 3.7 - Pytorch 1.4",
   "language": "python",
   "name": "py3.7_pytorch1.4"
  },
  "language_info": {
   "codemirror_mode": {
    "name": "ipython",
    "version": 3
   },
   "file_extension": ".py",
   "mimetype": "text/x-python",
   "name": "python",
   "nbconvert_exporter": "python",
   "pygments_lexer": "ipython3",
   "version": "3.7.6"
  }
 },
 "nbformat": 4,
 "nbformat_minor": 4
}
