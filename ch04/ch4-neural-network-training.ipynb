{
 "cells": [
  {
   "cell_type": "markdown",
   "metadata": {},
   "source": [
    "# 손실 함수\n",
    "- 신경망 학습에서 최적의 매개변수 값을 탐색하는 데 사용하는 지표는 **손실 함수(loss function)** 이다. 일반적으로 \n",
    "    - 오차제곱합(Sum of Squared Error, SSE)\n",
    "    - 교차 엔트로피 오차(Cross Entropy Error, CEE)\n",
    "    를 사용한다.\n",
    "    "
   ]
  },
  {
   "cell_type": "markdown",
   "metadata": {},
   "source": [
    "## 오차제곱합"
   ]
  },
  {
   "cell_type": "markdown",
   "metadata": {},
   "source": [
    "<center>\n",
    "    $E = \\frac{1}{2}\\Sigma_{k}^{}(y_k-t_k)^{2}$\n",
    "</center>\n",
    "\n",
    "$y_k$ : 신경망의 출력(신경망이 추정한 값)\\\n",
    "$t_k$ : 정답 레이블"
   ]
  },
  {
   "cell_type": "code",
   "execution_count": 13,
   "metadata": {
    "ExecuteTime": {
     "end_time": "2022-06-01T08:31:35.420641Z",
     "start_time": "2022-06-01T08:31:35.416121Z"
    }
   },
   "outputs": [],
   "source": [
    "# EX. 0 ~ 9까지의 예측 확률과 레이블"
   ]
  },
  {
   "cell_type": "code",
   "execution_count": 1,
   "metadata": {
    "ExecuteTime": {
     "end_time": "2022-06-01T08:47:17.551766Z",
     "start_time": "2022-06-01T08:47:17.541377Z"
    }
   },
   "outputs": [],
   "source": [
    "def sum_squares_error(y, t) :\n",
    "    return 0.5*np.sum((y-t)**2)"
   ]
  },
  {
   "cell_type": "code",
   "execution_count": 2,
   "metadata": {
    "ExecuteTime": {
     "end_time": "2022-06-01T08:47:17.597645Z",
     "start_time": "2022-06-01T08:47:17.569720Z"
    }
   },
   "outputs": [
    {
     "data": {
      "text/plain": [
       "0.09750000000000003"
      ]
     },
     "execution_count": 2,
     "metadata": {},
     "output_type": "execute_result"
    }
   ],
   "source": [
    "# ex 1. 2일 확률이 0.6으로 가장 높다고 예측\n",
    "\n",
    "y = np.array([0.1, 0.05, 0.6, 0.0, 0.05, 0.1, 0.0, 0.1, 0.0, 0.0])\n",
    "t = np.array([0, 0, 1, 0, 0, 0, 0, 0, 0, 0])\n",
    "\n",
    "sum_squares_error(y, t)"
   ]
  },
  {
   "cell_type": "code",
   "execution_count": 3,
   "metadata": {
    "ExecuteTime": {
     "end_time": "2022-06-01T08:47:17.642525Z",
     "start_time": "2022-06-01T08:47:17.625570Z"
    }
   },
   "outputs": [
    {
     "data": {
      "text/plain": [
       "0.5975"
      ]
     },
     "execution_count": 3,
     "metadata": {},
     "output_type": "execute_result"
    }
   ],
   "source": [
    "# ex 2. 7일 확률이 0.6으로 가장 높다고 예측\n",
    "\n",
    "y = np.array([0.1, 0.05, 0.1, 0.0, 0.05, 0.1, 0.0, 0.6, 0.0, 0.0])\n",
    "t = np.array([0, 0, 1, 0, 0, 0, 0, 0, 0, 0])\n",
    "\n",
    "sum_squares_error(y, t)"
   ]
  },
  {
   "cell_type": "markdown",
   "metadata": {},
   "source": [
    "ex.1은 정답이 '2'이고 신경망의 출력도 '2'에서 가장 높은 경우이다\n",
    "> SSE가 0.0975로 낮은 값\n",
    "\n",
    "ex.2은 정답이 '2'이지만 신경망의 출력은 '7'에서 가장 높은 경우이다\n",
    "> SSE가 0.5975로 높은 값"
   ]
  },
  {
   "cell_type": "markdown",
   "metadata": {},
   "source": [
    "## 교차 엔트로피 오차"
   ]
  },
  {
   "cell_type": "markdown",
   "metadata": {},
   "source": [
    "<center>\n",
    "    $E = -\\Sigma_{k}t_k\\text{log}y_k$\n",
    "</center>\n",
    "\n",
    "$y_k$ : 신경망의 출력(신경망이 추정한 값)\\\n",
    "$t_k$ : 정답 레이블"
   ]
  },
  {
   "cell_type": "code",
   "execution_count": 4,
   "metadata": {
    "ExecuteTime": {
     "end_time": "2022-06-01T08:47:20.029249Z",
     "start_time": "2022-06-01T08:47:20.022162Z"
    }
   },
   "outputs": [],
   "source": [
    "def cross_entropy_error(y, t) :\n",
    "    delta = 1e-7\n",
    "    return -np.sum(t * np.log(y + delta))"
   ]
  },
  {
   "cell_type": "code",
   "execution_count": 5,
   "metadata": {
    "ExecuteTime": {
     "end_time": "2022-06-01T08:47:20.212740Z",
     "start_time": "2022-06-01T08:47:20.197693Z"
    }
   },
   "outputs": [
    {
     "data": {
      "text/plain": [
       "0.510825457099338"
      ]
     },
     "execution_count": 5,
     "metadata": {},
     "output_type": "execute_result"
    }
   ],
   "source": [
    "# ex 1. 2일 확률이 0.6으로 가장 높다고 예측\n",
    "\n",
    "y = np.array([0.1, 0.05, 0.6, 0.0, 0.05, 0.1, 0.0, 0.1, 0.0, 0.0])\n",
    "t = np.array([0, 0, 1, 0, 0, 0, 0, 0, 0, 0])\n",
    "\n",
    "cross_entropy_error(y, t)"
   ]
  },
  {
   "cell_type": "code",
   "execution_count": 6,
   "metadata": {
    "ExecuteTime": {
     "end_time": "2022-06-01T08:47:20.396164Z",
     "start_time": "2022-06-01T08:47:20.386191Z"
    }
   },
   "outputs": [
    {
     "data": {
      "text/plain": [
       "2.302584092994546"
      ]
     },
     "execution_count": 6,
     "metadata": {},
     "output_type": "execute_result"
    }
   ],
   "source": [
    "# ex 2. 7일 확률이 0.6으로 가장 높다고 예측\n",
    "\n",
    "y = np.array([0.1, 0.05, 0.1, 0.0, 0.05, 0.1, 0.0, 0.6, 0.0, 0.0])\n",
    "t = np.array([0, 0, 1, 0, 0, 0, 0, 0, 0, 0])\n",
    "\n",
    "cross_entropy_error(y, t)"
   ]
  },
  {
   "cell_type": "markdown",
   "metadata": {},
   "source": [
    "## 미니배치 학습"
   ]
  },
  {
   "cell_type": "markdown",
   "metadata": {},
   "source": [
    "기계학습 문제는 훈련 데이터에 대한 손실 함수의 값을 구하고, 그 값을 최대한 줄여주는 매개변수를 찾는 것이다. 즉, 모든 훈련 데이터를 대상으로 손실 함수 값을 구해야 한다.\n",
    "\n",
    "이때까지는 데이터 하나에 대한 손실 함수를 고려했지만 지금부터는 N개의 훈련 데이터에 대한 손실 함수를 탐색"
   ]
  },
  {
   "cell_type": "markdown",
   "metadata": {},
   "source": [
    "**CCE**\n",
    "<center>\n",
    "    $E = -\\frac{1}{N}\\Sigma_{n}\\Sigma_{k}t_{nk}\\text{log}y_{nk}$\n",
    "</center>\n",
    "\n",
    "N개의 데이터의 손실 함수의 산술평균"
   ]
  },
  {
   "cell_type": "markdown",
   "metadata": {},
   "source": [
    "현실적으로 데이터의 수가 많은 경우 모든 데이터를 대상으로 손실 함수의 값을 구하는 데는 많은 시간이 걸린다.\n",
    "> 데이터 일부를 추려 전체의 **근사치**로 이용\n",
    "\n",
    "신경망에서도 일부만 골라 학습을 수행하는데 이를 **미니배치**라고 한다.\n",
    "\n"
   ]
  },
  {
   "cell_type": "code",
   "execution_count": 9,
   "metadata": {
    "ExecuteTime": {
     "end_time": "2022-06-01T08:48:47.453705Z",
     "start_time": "2022-06-01T08:48:47.274184Z"
    }
   },
   "outputs": [
    {
     "name": "stdout",
     "output_type": "stream",
     "text": [
      "(60000, 784)\n",
      "(60000, 10)\n"
     ]
    }
   ],
   "source": [
    "import sys, os \n",
    "sys.path.append(os.pardir)\n",
    "import numpy as np \n",
    "from dataset.mnist import load_mnist \n",
    "\n",
    "(X_train, t_train), (X_test, t_test) = load_mnist(normalize = True, one_hot_label = True)\n",
    "\n",
    "print(X_train.shape)\n",
    "print(t_train.shape)"
   ]
  },
  {
   "cell_type": "markdown",
   "metadata": {},
   "source": [
    "**무작위로 10장 추출**"
   ]
  },
  {
   "cell_type": "code",
   "execution_count": 10,
   "metadata": {
    "ExecuteTime": {
     "end_time": "2022-06-01T08:49:49.110555Z",
     "start_time": "2022-06-01T08:49:49.095503Z"
    }
   },
   "outputs": [],
   "source": [
    "train_size = X_train.shape[0]\n",
    "batch_size = 10\n",
    "batch_mask = np.random.choice(train_size, batch_size)\n",
    "X_batch = X_train[batch_mask]\n",
    "t_batch = t_train[batch_mask]"
   ]
  },
  {
   "cell_type": "markdown",
   "metadata": {},
   "source": [
    "## 배치용 교차 엔트로피 오차 구현 "
   ]
  },
  {
   "cell_type": "code",
   "execution_count": 15,
   "metadata": {
    "ExecuteTime": {
     "end_time": "2022-06-01T08:54:55.147521Z",
     "start_time": "2022-06-01T08:54:55.131608Z"
    }
   },
   "outputs": [],
   "source": [
    "def cross_entropy_error(y, t) : \n",
    "    if y.ndim == 1 : \n",
    "        t = t.reshape(1, t.size)\n",
    "        y = y.reshape(1, y.size)\n",
    "        \n",
    "    batch_size = y.shape[0]\n",
    "    return -np.sum(t * np.log(y + 1e-7)) / batch_size"
   ]
  },
  {
   "cell_type": "markdown",
   "metadata": {},
   "source": [
    "정답 레이블이 원-핫 인코딩이 아니라 숫자 레이블로 주어진 경우 : "
   ]
  },
  {
   "cell_type": "code",
   "execution_count": 16,
   "metadata": {
    "ExecuteTime": {
     "end_time": "2022-06-01T08:57:11.328009Z",
     "start_time": "2022-06-01T08:57:11.310380Z"
    }
   },
   "outputs": [],
   "source": [
    "def cross_entropy_error(y, t) : \n",
    "    if y.ndim == 1 : \n",
    "        t = t.reshape(1, t.size)\n",
    "        y = y.reshape(1, y.size)\n",
    "        \n",
    "    batch_size = y.shape[0]\n",
    "    return -np.sum(np.log(y[np.arange(batch_size), t] + 1e-7)) / batch_size"
   ]
  },
  {
   "cell_type": "markdown",
   "metadata": {},
   "source": [
    "# 수치 미분 "
   ]
  },
  {
   "cell_type": "code",
   "execution_count": 31,
   "metadata": {
    "ExecuteTime": {
     "end_time": "2022-06-01T09:21:00.756577Z",
     "start_time": "2022-06-01T09:21:00.743730Z"
    }
   },
   "outputs": [],
   "source": [
    "def numerical_diff(f, x) : \n",
    "    h = 1e-4\n",
    "    return (f(x + h) - f(x - h))/(2*h)"
   ]
  },
  {
   "cell_type": "code",
   "execution_count": 28,
   "metadata": {
    "ExecuteTime": {
     "end_time": "2022-06-01T09:18:48.522315Z",
     "start_time": "2022-06-01T09:18:48.512340Z"
    }
   },
   "outputs": [],
   "source": [
    "# ex. y = 0.01x^2 + 0.1x\n",
    "def function_1(x) :\n",
    "    return 0.01*x**2 + 0.1*x"
   ]
  },
  {
   "cell_type": "code",
   "execution_count": 29,
   "metadata": {
    "ExecuteTime": {
     "end_time": "2022-06-01T09:19:03.021247Z",
     "start_time": "2022-06-01T09:19:02.190849Z"
    }
   },
   "outputs": [],
   "source": [
    "import numpy as np \n",
    "import matplotlib.pylab as plt "
   ]
  },
  {
   "cell_type": "code",
   "execution_count": 30,
   "metadata": {
    "ExecuteTime": {
     "end_time": "2022-06-01T09:19:33.385978Z",
     "start_time": "2022-06-01T09:19:33.040059Z"
    }
   },
   "outputs": [
    {
     "data": {
      "image/png": "[encoded data removed]",
      "text/plain": [
       "<Figure size 432x288 with 1 Axes>"
      ]
     },
     "metadata": {
      "needs_background": "light"
     },
     "output_type": "display_data"
    }
   ],
   "source": [
    "x = np.arange(0, 20, 0.1)\n",
    "y = function_1(x)\n",
    "\n",
    "plt.xlabel('x')\n",
    "plt.ylabel('f(x)')\n",
    "plt.plot(x, y)\n",
    "plt.show()"
   ]
  },
  {
   "cell_type": "code",
   "execution_count": 33,
   "metadata": {
    "ExecuteTime": {
     "end_time": "2022-06-01T09:21:22.939151Z",
     "start_time": "2022-06-01T09:21:22.924049Z"
    }
   },
   "outputs": [
    {
     "name": "stdout",
     "output_type": "stream",
     "text": [
      "0.1999999999990898\n",
      "0.2999999999986347\n"
     ]
    }
   ],
   "source": [
    "print(numerical_diff(function_1, 5))\n",
    "print(numerical_diff(function_1, 10))"
   ]
  },
  {
   "cell_type": "code",
   "execution_count": 51,
   "metadata": {
    "ExecuteTime": {
     "end_time": "2022-06-01T09:31:08.494790Z",
     "start_time": "2022-06-01T09:31:08.318263Z"
    }
   },
   "outputs": [
    {
     "data": {
      "image/png": "[encoded data removed]",
      "text/plain": [
       "<Figure size 432x288 with 1 Axes>"
      ]
     },
     "metadata": {
      "needs_background": "light"
     },
     "output_type": "display_data"
    }
   ],
   "source": [
    "def tangent_line1(x) : \n",
    "    return numerical_diff(function_1, 5) * (x-5) + function_1(5)\n",
    "\n",
    "x = np.arange(0, 20, 0.1)\n",
    "y = function_1(x)\n",
    "\n",
    " \n",
    "x_ = np.arange(0, 20, 0.1)\n",
    "y_ = tangent_line1(x_)\n",
    "\n",
    "plt.xlabel('x')\n",
    "plt.ylabel('f(x)')\n",
    "plt.plot(x, y)\n",
    "plt.plot(x_, y_, color = 'red')\n",
    "plt.plot(5, function_1(5), markersize = 5, marker = '.', color = 'black')\n",
    "plt.plot([0,5], [function_1(5), function_1(5)], 'k--')\n",
    "plt.plot([5,5], [function_1(5), -0.5], 'k--')\n",
    "plt.show()"
   ]
  },
  {
   "cell_type": "code",
   "execution_count": 54,
   "metadata": {
    "ExecuteTime": {
     "end_time": "2022-06-01T09:32:14.750455Z",
     "start_time": "2022-06-01T09:32:14.579763Z"
    }
   },
   "outputs": [
    {
     "data": {
      "image/png": "[encoded data removed]",
      "text/plain": [
       "<Figure size 432x288 with 1 Axes>"
      ]
     },
     "metadata": {
      "needs_background": "light"
     },
     "output_type": "display_data"
    }
   ],
   "source": [
    "def tangent_line2(x) : \n",
    "    return numerical_diff(function_1, 10) * (x-10) + function_1(10)\n",
    "\n",
    "x = np.arange(0, 20, 0.1)\n",
    "y = function_1(x)\n",
    "\n",
    " \n",
    "x_ = np.arange(0, 20, 0.1)\n",
    "y_ = tangent_line2(x_)\n",
    "\n",
    "plt.xlabel('x')\n",
    "plt.ylabel('f(x)')\n",
    "plt.plot(x, y)\n",
    "plt.plot(x_, y_, color = 'red')\n",
    "plt.plot(10, function_1(10), markersize = 5, marker = '.', color = 'black')\n",
    "plt.plot([0,10], [function_1(10), function_1(10)], 'k--')\n",
    "plt.plot([10,10], [function_1(10), -1], 'k--')\n",
    "plt.show()"
   ]
  },
  {
   "cell_type": "markdown",
   "metadata": {},
   "source": [
    "## 편미분 "
   ]
  },
  {
   "cell_type": "markdown",
   "metadata": {},
   "source": [
    "$f(x_0, x_1)=x_0^2+x_1^2$"
   ]
  },
  {
   "cell_type": "code",
   "execution_count": 55,
   "metadata": {
    "ExecuteTime": {
     "end_time": "2022-06-01T09:34:09.716253Z",
     "start_time": "2022-06-01T09:34:09.700297Z"
    }
   },
   "outputs": [],
   "source": [
    "def function_2(x) : # 이 때는 x가 벡터\n",
    "    return x[0] ** 2 + x[1] ** 2 \n",
    "    # return np.sum(x ** 2)도 가능\n",
    "    "
   ]
  },
  {
   "cell_type": "markdown",
   "metadata": {},
   "source": [
    "$x_0$ = 3, $x_1$ = 4일 때 $x_0$에 대한 편미분 $\\frac{\\partial{f}}{\\partial{x_0}}$ 구하기"
   ]
  },
  {
   "cell_type": "code",
   "execution_count": 56,
   "metadata": {
    "ExecuteTime": {
     "end_time": "2022-06-01T09:38:21.287357Z",
     "start_time": "2022-06-01T09:38:21.272366Z"
    }
   },
   "outputs": [],
   "source": [
    "def function_tmp1(x0) : \n",
    "    return x0*x0 + 4.0**2.0"
   ]
  },
  {
   "cell_type": "code",
   "execution_count": 57,
   "metadata": {
    "ExecuteTime": {
     "end_time": "2022-06-01T09:38:55.324721Z",
     "start_time": "2022-06-01T09:38:55.319363Z"
    }
   },
   "outputs": [
    {
     "data": {
      "text/plain": [
       "6.00000000000378"
      ]
     },
     "execution_count": 57,
     "metadata": {},
     "output_type": "execute_result"
    }
   ],
   "source": [
    "numerical_diff(function_tmp1, 3.0)"
   ]
  },
  {
   "cell_type": "code",
   "execution_count": null,
   "metadata": {},
   "outputs": [],
   "source": []
  }
 ],
 "metadata": {
  "hide_input": false,
  "kernelspec": {
   "display_name": "Python 3",
   "language": "python",
   "name": "python3"
  },
  "language_info": {
   "codemirror_mode": {
    "name": "ipython",
    "version": 3
   },
   "file_extension": ".py",
   "mimetype": "text/x-python",
   "name": "python",
   "nbconvert_exporter": "python",
   "pygments_lexer": "ipython3",
   "version": "3.8.5"
  },
  "toc": {
   "base_numbering": 1,
   "nav_menu": {},
   "number_sections": true,
   "sideBar": true,
   "skip_h1_title": false,
   "title_cell": "Table of Contents",
   "title_sidebar": "Contents",
   "toc_cell": false,
   "toc_position": {},
   "toc_section_display": true,
   "toc_window_display": false
  },
  "varInspector": {
   "cols": {
    "lenName": 16,
    "lenType": 16,
    "lenVar": 40
   },
   "kernels_config": {
    "python": {
     "delete_cmd_postfix": "",
     "delete_cmd_prefix": "del ",
     "library": "var_list.py",
     "varRefreshCmd": "print(var_dic_list())"
    },
    "r": {
     "delete_cmd_postfix": ") ",
     "delete_cmd_prefix": "rm(",
     "library": "var_list.r",
     "varRefreshCmd": "cat(var_dic_list()) "
    }
   },
   "types_to_exclude": [
    "module",
    "function",
    "builtin_function_or_method",
    "instance",
    "_Feature"
   ],
   "window_display": false
  }
 },
 "nbformat": 4,
 "nbformat_minor": 4
}
